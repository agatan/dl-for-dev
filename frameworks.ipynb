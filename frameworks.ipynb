{
 "cells": [
  {
   "cell_type": "markdown",
   "metadata": {
    "colab_type": "text",
    "id": "nKe3NHXWO5Dc"
   },
   "source": [
    "## フレームワークの紹介\n",
    "\n",
    "- tensorflow\n",
    "- keras\n",
    "- pytorch\n",
    "- chainer\n",
    "\n",
    "などが有名な deep learning フレームワークです。\n",
    "\n",
    "deep learning は微分を計算する必要がありますが、その計算のサポートなどをやってくれるのがこれらのフレームワークです。\n",
    "\n",
    "大きく分けると 2 種類に分類できます。\n",
    "\n",
    "### Define by Run\n",
    "\n",
    "chainer や pytorch はこちらに属します。\n",
    "これらは、実際に計算をしながら計算グラフを構築し、自動微分を行うフレームワークです。\n",
    "言葉で説明すると難しいですが、ちょっと例を動かすとわかりやすいと思うので例を書きます。"
   ]
  },
  {
   "cell_type": "code",
   "execution_count": 1,
   "metadata": {
    "colab": {
     "base_uri": "https://localhost:8080/",
     "height": 173
    },
    "colab_type": "code",
    "id": "krP_qgdbPyPK",
    "outputId": "60c864e2-aac7-4511-e918-72a01a00a825"
   },
   "outputs": [
    {
     "name": "stdout",
     "output_type": "stream",
     "text": [
      "Collecting torch\n",
      "\u001b[?25l  Downloading https://files.pythonhosted.org/packages/49/0e/e382bcf1a6ae8225f50b99cc26effa2d4cc6d66975ccf3fa9590efcbedce/torch-0.4.1-cp36-cp36m-manylinux1_x86_64.whl (519.5MB)\n",
      "\u001b[K    100% |████████████████████████████████| 519.5MB 18kB/s \n",
      "tcmalloc: large alloc 1073750016 bytes == 0x58aae000 @  0x7f4dc2d2c1c4 0x46d6a4 0x5fcbcc 0x4c494d 0x54f3c4 0x553aaf 0x54e4c8 0x54f4f6 0x553aaf 0x54efc1 0x54f24d 0x553aaf 0x54efc1 0x54f24d 0x553aaf 0x54efc1 0x54f24d 0x551ee0 0x54e4c8 0x54f4f6 0x553aaf 0x54efc1 0x54f24d 0x551ee0 0x54efc1 0x54f24d 0x551ee0 0x54e4c8 0x54f4f6 0x553aaf 0x54e4c8\n",
      "\u001b[?25hInstalling collected packages: torch\n",
      "Successfully installed torch-0.4.1\n",
      "tensor([6.], grad_fn=<ThMulBackward>)\n",
      "tensor([2.])\n"
     ]
    }
   ],
   "source": [
    "!pip install torch\n",
    "\n",
    "import torch\n",
    "\n",
    "x = torch.tensor([3.0], requires_grad=True)\n",
    "y = torch.tensor([2.0])\n",
    "\n",
    "z = x * y\n",
    "print(z) # この時点で 3.0 * 2.0 = 6.0 が計算されていることがわかる。=> 計算しながら微分に必要な計算グラフを構築している\n",
    "\n",
    "z.backward() # 微分を計算する。これを計算するには、z がどんな計算式で作られているか覚えている必要がある = 計算グラフを構築する必要がある\n",
    "print(x.grad) # dz/dx "
   ]
  },
  {
   "cell_type": "markdown",
   "metadata": {
    "colab_type": "text",
    "id": "978crocNPD-e"
   },
   "source": [
    "PyTorch でのニューラルネットワークの簡単な例を↓にかきます。"
   ]
  },
  {
   "cell_type": "code",
   "execution_count": 0,
   "metadata": {
    "colab": {},
    "colab_type": "code",
    "id": "8GbjSrgAPDZR"
   },
   "outputs": [],
   "source": [
    "import torch.nn as nn\n",
    "import torch.nn.functional as F\n",
    "\n",
    "class Net(nn.Module):\n",
    "    def __init__(self):\n",
    "        super(Net, self).__init__()\n",
    "        self.conv1 = nn.Conv2d(1, 10, kernel_size=5)\n",
    "        self.conv2 = nn.Conv2d(10, 20, kernel_size=5)\n",
    "        self.fc1 = nn.Linear(320, 50)\n",
    "        self.fc2 = nn.Linear(50, 10)\n",
    "\n",
    "    def forward(self, x):\n",
    "        x = F.relu(F.max_pool2d(self.conv1(x), 2))\n",
    "        x = F.relu(F.max_pool2d(self.conv2(x), 2))\n",
    "        x = x.view(-1, 320)\n",
    "        x = F.relu(self.fc1(x))\n",
    "        x = self.fc2(x)\n",
    "        return F.log_softmax(x, dim=1)"
   ]
  },
  {
   "cell_type": "markdown",
   "metadata": {
    "colab_type": "text",
    "id": "63N3vGTqPakK"
   },
   "source": [
    "`forward` メソッドがネットワークの構造を決定しています。  \n",
    "`x` という入力を、いくつかの演算、活性化関数に通して、最終的な出力を得ています。"
   ]
  },
  {
   "cell_type": "markdown",
   "metadata": {
    "colab_type": "text",
    "id": "pG2BtWN3R0py"
   },
   "source": [
    "\n",
    "### Define and Run\n",
    "\n",
    "tensorflow などは define and run と呼ばれるフレームワークです。\n",
    "\n",
    "前もって計算グラフを構築し、できあがった計算グラフを評価する、という方法で動きます。\n",
    "これも例を見るとわかりやすいので例を出します。"
   ]
  },
  {
   "cell_type": "code",
   "execution_count": 3,
   "metadata": {
    "colab": {
     "base_uri": "https://localhost:8080/",
     "height": 122
    },
    "colab_type": "code",
    "id": "gkHbfcm2RBur",
    "outputId": "62247837-8b36-42f6-c4d8-8b90243cbdc4"
   },
   "outputs": [
    {
     "name": "stdout",
     "output_type": "stream",
     "text": [
      "Tensor(\"mul:0\", shape=(1,), dtype=float32)\n",
      "Tensor(\"mul_1:0\", shape=(1,), dtype=float32)\n"
     ]
    },
    {
     "name": "stderr",
     "output_type": "stream",
     "text": [
      "/usr/local/lib/python3.6/dist-packages/tensorflow/python/client/session.py:1645: UserWarning: An interactive session is already active. This can cause out-of-memory errors in some cases. You must explicitly call `InteractiveSession.close()` to release resources held by the other session(s).\n",
      "  warnings.warn('An interactive session is already active. This can '\n"
     ]
    },
    {
     "data": {
      "text/plain": [
       "array([6.], dtype=float32)"
      ]
     },
     "execution_count": 3,
     "metadata": {
      "tags": []
     },
     "output_type": "execute_result"
    }
   ],
   "source": [
    "import tensorflow as tf\n",
    "\n",
    "x = tf.constant([3.0])\n",
    "y = tf.constant([2.0])\n",
    "\n",
    "z = x * y\n",
    "print(z) # この時点ではまだ値は計算されない\n",
    "\n",
    "tf.InteractiveSession().run(z) # 構築された計算グラフを評価\n",
    "\n",
    "x = tf.placeholder(tf.float32, shape=(1,)) # （計算グラフ上の）変数を定義する。評価するときにこの値を実データで置き換えられる\n",
    "y = tf.constant([2.0])\n",
    "z = x * y\n",
    "print(z) # まだ計算されない\n",
    "\n",
    "tf.InteractiveSession().run(z, feed_dict={x: [3.0]}) # x という変数を [3.0] で置き換えた"
   ]
  },
  {
   "cell_type": "markdown",
   "metadata": {
    "colab_type": "text",
    "id": "5TW_C-3YTOZi"
   },
   "source": [
    "define and run は、通常のプログラミングとメンタルモデルが大きく異なります。\n",
    "print デバッグもできないし、普通の if 文, for 文も使えなくなります。（ `tf.cond` や `tf.while` を代わりに使います。）\n",
    "\n",
    "そのため、最近では pytorch や chainer のような define by run のフレームワークの方が人気になりつつあると思います。\n",
    "\n",
    "一方で、tensorflow はそのような事情を補って余りあるほどの巨大なエコシステムを備えています。\n",
    "たとえば\n",
    "\n",
    "- tensorboard \n",
    "  - 学習状況の可視化\n",
    "- ml engine\n",
    "  - GCP のサービス。マネージドな環境で、tensorflow の学習ができ、HTTP サーバとしてデプロイをすることもできる。\n",
    "- tensorflow lite\n",
    "  - モバイルなどのエッジデバイス上で推論を走らせるためのフレームワーク\n",
    "\n",
    "といったツールやサービスが提供されていますし、有名なニューラルネットワークであれば大抵実装が公開されているというのも重要な利点です。\n",
    "\n",
    "#### 余談\n",
    "\n",
    "tensorflow は eager mode というのを最近取り入れだしました。最初に `tf.enable_eager_execution()` を実行しておくと、tensorflow が pytorch や chainer のように動かせる機能です。\n",
    "先日 tensorflow 2.0 の予定が発表されましたが、その main features の一つにこの eager mode が挙げられていたので、今後もサポートが強化されていきそうです。\n",
    "\n",
    "\n",
    "#### モデル例\n",
    "\n",
    "↓に tensorflow と keras で簡単なモデル（計算グラフ）を定義する例を書きます。"
   ]
  },
  {
   "cell_type": "code",
   "execution_count": 4,
   "metadata": {
    "colab": {
     "base_uri": "https://localhost:8080/",
     "height": 34
    },
    "colab_type": "code",
    "id": "FIXqCnrUP7Jx",
    "outputId": "6b479390-f248-4beb-f26d-ed8ac54ff1a3"
   },
   "outputs": [
    {
     "data": {
      "text/plain": [
       "<tf.Tensor 'Softmax:0' shape=(?, 10) dtype=float32>"
      ]
     },
     "execution_count": 4,
     "metadata": {
      "tags": []
     },
     "output_type": "execute_result"
    }
   ],
   "source": [
    "import tensorflow as tf\n",
    "\n",
    "input = tf.placeholder(tf.float32, shape=(None, 28, 28, 1)) # 28x28x1 の行列が入力\n",
    "x = tf.layers.conv2d(input, filters=10, kernel_size=5)\n",
    "x = tf.nn.relu(x)\n",
    "x = tf.layers.max_pooling2d(x, pool_size=2, strides=2)\n",
    "x = tf.layers.conv2d(x, filters=20, kernel_size=5)\n",
    "x = tf.nn.relu(x)\n",
    "x = tf.layers.max_pooling2d(x, pool_size=2, strides=2)\n",
    "x = tf.reshape(x, [-1, 4 * 4 * 20])\n",
    "x = tf.layers.dense(x, 50)\n",
    "x = tf.nn.relu(x)\n",
    "x = tf.layers.dense(x, 10)\n",
    "x = tf.nn.softmax(x)\n",
    "x"
   ]
  },
  {
   "cell_type": "code",
   "execution_count": 5,
   "metadata": {
    "colab": {
     "base_uri": "https://localhost:8080/",
     "height": 544
    },
    "colab_type": "code",
    "id": "NgLOlUnFQfWA",
    "outputId": "7d101d32-09c7-497c-b409-ae2cea5e7930"
   },
   "outputs": [
    {
     "name": "stdout",
     "output_type": "stream",
     "text": [
      "_________________________________________________________________\n",
      "Layer (type)                 Output Shape              Param #   \n",
      "=================================================================\n",
      "input_1 (InputLayer)         (None, 28, 28, 1)         0         \n",
      "_________________________________________________________________\n",
      "conv2d_2 (Conv2D)            (None, 24, 24, 10)        260       \n",
      "_________________________________________________________________\n",
      "activation (Activation)      (None, 24, 24, 10)        0         \n",
      "_________________________________________________________________\n",
      "max_pooling2d_2 (MaxPooling2 (None, 12, 12, 10)        0         \n",
      "_________________________________________________________________\n",
      "conv2d_3 (Conv2D)            (None, 8, 8, 20)          5020      \n",
      "_________________________________________________________________\n",
      "activation_1 (Activation)    (None, 8, 8, 20)          0         \n",
      "_________________________________________________________________\n",
      "max_pooling2d_3 (MaxPooling2 (None, 4, 4, 20)          0         \n",
      "_________________________________________________________________\n",
      "flatten (Flatten)            (None, 320)               0         \n",
      "_________________________________________________________________\n",
      "dense_2 (Dense)              (None, 50)                16050     \n",
      "_________________________________________________________________\n",
      "activation_2 (Activation)    (None, 50)                0         \n",
      "_________________________________________________________________\n",
      "dense_3 (Dense)              (None, 10)                510       \n",
      "_________________________________________________________________\n",
      "activation_3 (Activation)    (None, 10)                0         \n",
      "=================================================================\n",
      "Total params: 21,840\n",
      "Trainable params: 21,840\n",
      "Non-trainable params: 0\n",
      "_________________________________________________________________\n"
     ]
    }
   ],
   "source": [
    "from tensorflow.python.keras.layers import Input, Conv2D, Activation, MaxPooling2D, Dense, Flatten\n",
    "\n",
    "input = Input(shape=(28, 28, 1))\n",
    "x = Conv2D(10, kernel_size=5)(input)\n",
    "x = Activation('relu')(x)\n",
    "x = MaxPooling2D()(x)\n",
    "x = Conv2D(20, kernel_size=5)(x)\n",
    "x = Activation('relu')(x)\n",
    "x = MaxPooling2D()(x)\n",
    "x = Flatten()(x)\n",
    "x = Dense(50)(x)\n",
    "x = Activation('relu')(x)\n",
    "x = Dense(10)(x)\n",
    "x = Activation('softmax')(x)\n",
    "\n",
    "tf.keras.Model(input, x).summary()"
   ]
  },
  {
   "cell_type": "markdown",
   "metadata": {
    "colab_type": "text",
    "id": "ZkeEAR2VWz4j"
   },
   "source": [
    "### 一旦まとめ\n",
    "\n",
    "だいたいどのフレームワークでも、\n",
    "\n",
    "- 入力となる行列データを定義\n",
    "- convolution などの layer を通す\n",
    "- 出力の形式を欲しい形式に揃える\n",
    "\n",
    "というながれになっています。\n",
    "\n",
    "なので、各フレームワークの layers に関するドキュメントをざっと眺めると、なにができるのかなんとなく把握できると思います。\n",
    "典型的な問題であれば、ただただ layers を重ねるだけでモデルを作ることができます。\n",
    "https://keras.io/layers/about-keras-layers/ \n",
    "\n",
    "\n",
    "実際に学習をさせるためには、損失関数を定義する必要があるので、損失関数に関するドキュメントも読んでみることをおすすめします。\n",
    "https://keras.io/ja/objectives/"
   ]
  }
 ],
 "metadata": {
  "colab": {
   "collapsed_sections": [],
   "name": "frameworks.ipynb",
   "provenance": [],
   "version": "0.3.2"
  },
  "kernelspec": {
   "display_name": "Python 3",
   "language": "python",
   "name": "python3"
  },
  "language_info": {
   "codemirror_mode": {
    "name": "ipython",
    "version": 3
   },
   "file_extension": ".py",
   "mimetype": "text/x-python",
   "name": "python",
   "nbconvert_exporter": "python",
   "pygments_lexer": "ipython3",
   "version": "3.6.4"
  }
 },
 "nbformat": 4,
 "nbformat_minor": 1
}

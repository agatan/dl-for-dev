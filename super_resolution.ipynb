{
  "nbformat": 4,
  "nbformat_minor": 0,
  "metadata": {
    "colab": {
      "name": "super_resolution.ipynb",
      "version": "0.3.2",
      "provenance": [],
      "collapsed_sections": []
    },
    "kernelspec": {
      "name": "python3",
      "display_name": "Python 3"
    },
    "accelerator": "GPU"
  },
  "cells": [
    {
      "metadata": {
        "id": "YGMWv37qEPKd",
        "colab_type": "text"
      },
      "cell_type": "markdown",
      "source": [
        "## 超解像をやってみる\n",
        "\n",
        "超解像という問題を deep learning で解いてみます。\n",
        "\n",
        "解像度の低い画像を入力に、解像度が高い画像を出力できるようなニューラルネットワークがほしい、という問題です。\n",
        "\n",
        "今回は簡単にためすために、小さい画像でこの問題を解いてみます。\n",
        "\n",
        "まずは fashion mnist というデータセットを読み込みます。この画像データは MNIST と同じく 28x28x1 というサイズの画像です。\n",
        "\n",
        "これをあえて 7x7 に resize したデータを入力にし、28x28 の元画像を復元できるように学習していきます。"
      ]
    },
    {
      "metadata": {
        "id": "aHe_XtfaD5Rc",
        "colab_type": "code",
        "colab": {
          "base_uri": "https://localhost:8080/",
          "height": 139
        },
        "outputId": "7cbd9f9b-1b24-4bad-dafe-5d72bbc7fcc6"
      },
      "cell_type": "code",
      "source": [
        "import tensorflow as tf\n",
        "import matplotlib.pyplot as plt\n",
        "from PIL import Image\n",
        "import numpy as np\n",
        "from scipy.misc import imresize\n",
        "\n",
        "(original_images, _), (test_original_images, _) = tf.keras.datasets.fashion_mnist.load_data()\n",
        "\n",
        "# 28x28 → 7x7 に縮小します。これが学習データの入力になります。\n",
        "\n",
        "def resize_images(images):\n",
        "  resized_images = np.zeros([original_images.shape[0], 7, 7, 1])\n",
        "  for i, img in enumerate(images):\n",
        "      resized_images[i, :, :, 0] = imresize(img.reshape((28, 28)), (7, 7))\n",
        "  return resized_images\n",
        "\n",
        "reshaped_original_images = np.expand_dims(original_images, axis=-1)\n",
        "resized_images = resize_images(reshaped_original_images)\n",
        "\n",
        "# 0~255 を 0~1.0 の範囲に変換しておきます\n",
        "reshaped_original_images = reshaped_original_images.astype('float32') / 255.0\n",
        "resized_images = resized_images.astype('float32') / 255.0\n",
        "\n",
        "print(\"original images: \", reshaped_original_images.shape)\n",
        "print(\"resized images: \", resized_images.shape)\n",
        "\n",
        "# Validation 用の画像も準備しておきます。\n",
        "\n",
        "reshaped_test_original_images = np.expand_dims(test_original_images, axis=-1)\n",
        "test_resized_images = resize_images(reshaped_test_original_images)\n",
        "\n",
        "# 0~255 を 0~1.0 の範囲に変換しておきます\n",
        "reshaped_test_original_images = reshaped_test_original_images.astype('float32') / 255.0\n",
        "test_resized_images = test_resized_images.astype('float32') / 255.0"
      ],
      "execution_count": 1,
      "outputs": [
        {
          "output_type": "stream",
          "text": [
            "/usr/local/lib/python3.6/dist-packages/scipy/misc/pilutil.py:482: FutureWarning: Conversion of the second argument of issubdtype from `int` to `np.signedinteger` is deprecated. In future, it will be treated as `np.int64 == np.dtype(int).type`.\n",
            "  if issubdtype(ts, int):\n",
            "/usr/local/lib/python3.6/dist-packages/scipy/misc/pilutil.py:485: FutureWarning: Conversion of the second argument of issubdtype from `float` to `np.floating` is deprecated. In future, it will be treated as `np.float64 == np.dtype(float).type`.\n",
            "  elif issubdtype(type(size), float):\n"
          ],
          "name": "stderr"
        },
        {
          "output_type": "stream",
          "text": [
            "original images:  (60000, 28, 28, 1)\n",
            "resized images:  (60000, 7, 7, 1)\n"
          ],
          "name": "stdout"
        }
      ]
    },
    {
      "metadata": {
        "id": "fISZ2uqoE53b",
        "colab_type": "code",
        "colab": {
          "base_uri": "https://localhost:8080/",
          "height": 711
        },
        "outputId": "33447a0e-547d-42b4-e58a-24189bc09594"
      },
      "cell_type": "code",
      "source": [
        "print('Original')\n",
        "plt.imshow(original_images[0])\n",
        "plt.show()\n",
        "print('Resized')\n",
        "plt.imshow(resized_images[0].reshape((7, 7)))\n",
        "plt.show()"
      ],
      "execution_count": 2,
      "outputs": [
        {
          "output_type": "stream",
          "text": [
            "Original\n"
          ],
          "name": "stdout"
        },
        {
          "output_type": "display_data",
          "data": {
            "image/png": "[encoded data removed]",
            "text/plain": [
              "<matplotlib.figure.Figure at 0x7f8caefce588>"
            ]
          },
          "metadata": {
            "tags": []
          }
        },
        {
          "output_type": "stream",
          "text": [
            "Resized\n"
          ],
          "name": "stdout"
        },
        {
          "output_type": "display_data",
          "data": {
            "image/png": "[encoded data removed]",
            "text/plain": [
              "<matplotlib.figure.Figure at 0x7f8c6639fc88>"
            ]
          },
          "metadata": {
            "tags": []
          }
        }
      ]
    },
    {
      "metadata": {
        "id": "4H1wpOgPrB0Y",
        "colab_type": "text"
      },
      "cell_type": "markdown",
      "source": [
        "## モデル例\n",
        "\n",
        "7x7x1 を入力にするので、最初は\n",
        "\n",
        "```python\n",
        "from tensorflow.python.keras.layers import Input\n",
        "input = Input(shape=(7, 7, 1))\n",
        "```\n",
        "\n",
        "になります。  \n",
        "これをいくつかの Layer に通して 28x28x1 の出力を得ることが目標です。\n",
        "\n",
        "`Conv2D ` は、入力のサイズを小さくしてしまう方向の演算ですが、今回は画像サイズを大きくしなければならないので、`UpSampling2D` を使います。"
      ]
    },
    {
      "metadata": {
        "id": "qiQeXOFMr9pT",
        "colab_type": "code",
        "colab": {
          "base_uri": "https://localhost:8080/",
          "height": 34
        },
        "outputId": "bef0a92f-f994-4f7b-92c9-b752d3f5c39c"
      },
      "cell_type": "code",
      "source": [
        "from tensorflow.python.keras.layers import Input, UpSampling2D\n",
        "\n",
        "input = Input(shape=(7, 7, 1))\n",
        "UpSampling2D()(input)"
      ],
      "execution_count": 3,
      "outputs": [
        {
          "output_type": "execute_result",
          "data": {
            "text/plain": [
              "<tf.Tensor 'up_sampling2d/ResizeNearestNeighbor:0' shape=(?, 14, 14, 1) dtype=float32>"
            ]
          },
          "metadata": {
            "tags": []
          },
          "execution_count": 3
        }
      ]
    },
    {
      "metadata": {
        "id": "xvWnAi81shKs",
        "colab_type": "text"
      },
      "cell_type": "markdown",
      "source": [
        "\n",
        "`UpSampling2D` は各ピクセルを単純に 2 回ずつ繰り返すことで、画素数を 2x2 倍にする層です。  \n",
        "単に繰り返すだけなので、学習の余地はありません。\n",
        "\n",
        "そこで、`Conv2D` と `UpSampling2D` を交互に繰り返すことで、学習担当は `Conv2D`、拡大する仕事は `UpSampling2D` に担ってもらいます。\n",
        "\n",
        "↓に活性化関数なども加えた、典型的なモデル例を書いてみます。"
      ]
    },
    {
      "metadata": {
        "id": "40XqW7qXG97h",
        "colab_type": "code",
        "colab": {
          "base_uri": "https://localhost:8080/",
          "height": 612
        },
        "outputId": "394d8654-fe0a-4f75-ed63-5616442bc094"
      },
      "cell_type": "code",
      "source": [
        "from tensorflow.python.keras.layers import Input, Conv2D, BatchNormalization, Activation, UpSampling2D\n",
        "\n",
        "def create_model():\n",
        "  input = tf.keras.layers.Input(shape=(7, 7, 1))\n",
        "  x = Conv2D(64, kernel_size=3, padding='same')(input)\n",
        "  x = BatchNormalization()(x)\n",
        "  x = Activation('relu')(x)\n",
        "  x = UpSampling2D()(x)\n",
        "  x = Conv2D(64, kernel_size=3, padding='same')(x)\n",
        "  x = BatchNormalization()(x)\n",
        "  x = Activation('relu')(x)\n",
        "  x = UpSampling2D()(x)\n",
        "  x = Conv2D(64, kernel_size=3, padding='same')(x)\n",
        "  x = BatchNormalization()(x)\n",
        "  x = Activation('relu')(x)\n",
        "  x = Conv2D(1, kernel_size=3, padding='same')(x)\n",
        "  output = Activation('sigmoid')(x)\n",
        "  return tf.keras.Model(input, output)\n",
        "\n",
        "create_model().summary()"
      ],
      "execution_count": 4,
      "outputs": [
        {
          "output_type": "stream",
          "text": [
            "_________________________________________________________________\n",
            "Layer (type)                 Output Shape              Param #   \n",
            "=================================================================\n",
            "input_2 (InputLayer)         (None, 7, 7, 1)           0         \n",
            "_________________________________________________________________\n",
            "conv2d (Conv2D)              (None, 7, 7, 64)          640       \n",
            "_________________________________________________________________\n",
            "batch_normalization (BatchNo (None, 7, 7, 64)          256       \n",
            "_________________________________________________________________\n",
            "activation (Activation)      (None, 7, 7, 64)          0         \n",
            "_________________________________________________________________\n",
            "up_sampling2d_1 (UpSampling2 (None, 14, 14, 64)        0         \n",
            "_________________________________________________________________\n",
            "conv2d_1 (Conv2D)            (None, 14, 14, 64)        36928     \n",
            "_________________________________________________________________\n",
            "batch_normalization_1 (Batch (None, 14, 14, 64)        256       \n",
            "_________________________________________________________________\n",
            "activation_1 (Activation)    (None, 14, 14, 64)        0         \n",
            "_________________________________________________________________\n",
            "up_sampling2d_2 (UpSampling2 (None, 28, 28, 64)        0         \n",
            "_________________________________________________________________\n",
            "conv2d_2 (Conv2D)            (None, 28, 28, 64)        36928     \n",
            "_________________________________________________________________\n",
            "batch_normalization_2 (Batch (None, 28, 28, 64)        256       \n",
            "_________________________________________________________________\n",
            "activation_2 (Activation)    (None, 28, 28, 64)        0         \n",
            "_________________________________________________________________\n",
            "conv2d_3 (Conv2D)            (None, 28, 28, 1)         577       \n",
            "_________________________________________________________________\n",
            "activation_3 (Activation)    (None, 28, 28, 1)         0         \n",
            "=================================================================\n",
            "Total params: 75,841\n",
            "Trainable params: 75,457\n",
            "Non-trainable params: 384\n",
            "_________________________________________________________________\n"
          ],
          "name": "stdout"
        }
      ]
    },
    {
      "metadata": {
        "id": "N3_zThxesq3b",
        "colab_type": "text"
      },
      "cell_type": "markdown",
      "source": [
        "入力 7x7x1 → 出力 28x28x1 になっていることを確認してください。\n",
        "\n",
        "今回のモデルは最後に `sigmoid` という活性化関数を通しています。これは、 -∞ ~ +∞ までの値を 0~1 に変換する関数です。\n",
        "\n",
        "先程画像を 255.0 で割ることで、正解データの各ピクセルの値を 0~1 の範囲に限定しました。  \n",
        "なので出力も 0~1 の範囲に揃えてあげます。\n",
        "\n",
        "実際に学習してみます。\n",
        "ちょっと時間がかかるので 1 周（1 epoch）だけ学習させます。(optimizer を adam というものにしました。他にもいろいろあるので試してみてください。収束のはやさなどが変わってきます。)"
      ]
    },
    {
      "metadata": {
        "id": "wQwwmwleLV8g",
        "colab_type": "code",
        "colab": {
          "base_uri": "https://localhost:8080/",
          "height": 68
        },
        "outputId": "9437eec0-6d10-40ba-b0e7-77fde21521f3"
      },
      "cell_type": "code",
      "source": [
        "model = create_model()\n",
        "model.compile('adam', loss='mean_squared_error', metrics=['mean_squared_error']) # 「各 pixel の値が正解のピクセルとどれだけずれているか」が損失\n",
        "\n",
        "model.fit(x=resized_images, y=reshaped_original_images, batch_size=64, epochs=1)"
      ],
      "execution_count": 5,
      "outputs": [
        {
          "output_type": "stream",
          "text": [
            "Epoch 1/1\n",
            "60000/60000 [==============================] - 22s 368us/step - loss: 0.0128 - mean_squared_error: 0.0128\n"
          ],
          "name": "stdout"
        },
        {
          "output_type": "execute_result",
          "data": {
            "text/plain": [
              "<tensorflow.python.keras.callbacks.History at 0x7f8c65695588>"
            ]
          },
          "metadata": {
            "tags": []
          },
          "execution_count": 5
        }
      ]
    },
    {
      "metadata": {
        "id": "V0i1mg5vwLHc",
        "colab_type": "text"
      },
      "cell_type": "markdown",
      "source": [
        "今回の損失関数は `mean_squared_error` にしました。  \n",
        "これは、 `(正解の値 - 予測値) ^ 2` の和です。\n",
        "\n",
        "最高の出力をできた場合は `正解の値 - 予測値 == 0` なのでこの損失は 0 になります。  \n",
        "\n",
        "学習結果を表示してみましょう。validation の画像を使います。"
      ]
    },
    {
      "metadata": {
        "id": "hroImzObMoOg",
        "colab_type": "code",
        "colab": {
          "base_uri": "https://localhost:8080/",
          "height": 1007
        },
        "outputId": "176c5b21-fa3d-44a4-a9f7-303ca90e8c9d"
      },
      "cell_type": "code",
      "source": [
        "def show(img, size=(28, 28)):\n",
        "  img = img * 255.0\n",
        "  plt.imshow(img.astype('uint8').reshape(size))\n",
        "  plt.show()\n",
        "\n",
        "original = reshaped_test_original_images[0]\n",
        "resized = test_resized_images[0]\n",
        "pred = model.predict(np.array([resized]))\n",
        "\n",
        "show(resized, size=(7, 7))\n",
        "show(pred)\n",
        "show(original)"
      ],
      "execution_count": 6,
      "outputs": [
        {
          "output_type": "display_data",
          "data": {
            "image/png": "[encoded data removed]",
            "text/plain": [
              "<matplotlib.figure.Figure at 0x7f8c663c92b0>"
            ]
          },
          "metadata": {
            "tags": []
          }
        },
        {
          "output_type": "display_data",
          "data": {
            "image/png": "[encoded data removed]",
            "text/plain": [
              "<matplotlib.figure.Figure at 0x7f8c66384908>"
            ]
          },
          "metadata": {
            "tags": []
          }
        },
        {
          "output_type": "display_data",
          "data": {
            "image/png": "[encoded data removed]",
            "text/plain": [
              "<matplotlib.figure.Figure at 0x7f8c5abc9b38>"
            ]
          },
          "metadata": {
            "tags": []
          }
        }
      ]
    },
    {
      "metadata": {
        "id": "1RZNfd-LyxkR",
        "colab_type": "text"
      },
      "cell_type": "markdown",
      "source": [
        "元画像が小さいのでちょっとわかりにくいかもしれませんが、それなりに予測できていそうです。\n",
        "\n",
        "今回は時間の都合もあって、小さい画像データを取り扱いましたが、データサイズが大きくなっても同じ構造で超解像が実現できます。（もちろん大きい画像データのほうがより難しく、さまざまな工夫が研究されています。）"
      ]
    }
  ]
}